{
 "cells": [
  {
   "cell_type": "markdown",
   "metadata": {},
   "source": [
    "# Drawing figures for the SIGIR paper"
   ]
  },
  {
   "cell_type": "code",
   "execution_count": 1,
   "metadata": {},
   "outputs": [],
   "source": [
    "from sklearn.preprocessing import normalize\n",
    "import matplotlib.pyplot as plt\n",
    "plt.style.use('ggplot')"
   ]
  },
  {
   "cell_type": "code",
   "execution_count": 39,
   "metadata": {},
   "outputs": [],
   "source": [
    "y2 = [1,9,1.5,0.9,0.8]\n",
    "y1 = [1.1,1.7,1.2,1,0.8]\n",
    "\n",
    "x1 = [1,2,3,4,5]\n",
    "cols = ['r', 'r', 'g', 'r', 'r' ]"
   ]
  },
  {
   "cell_type": "code",
   "execution_count": 83,
   "metadata": {},
   "outputs": [
    {
     "data": {
      "image/png": "[encoded data removed]",
      "text/plain": [
       "<Figure size 252x108 with 1 Axes>"
      ]
     },
     "metadata": {},
     "output_type": "display_data"
    },
    {
     "data": {
      "image/png": "[encoded data removed]",
      "text/plain": [
       "<Figure size 216x100.8 with 1 Axes>"
      ]
     },
     "metadata": {},
     "output_type": "display_data"
    }
   ],
   "source": [
    "for i, (y, fname) in enumerate(zip([y1, y2], ['bad_prediction', 'worse_prediction'])):\n",
    "    if i==0:\n",
    "        plt.subplots(figsize=(3.5,1.5))\n",
    "    else:\n",
    "        plt.subplots(figsize=(3,1.4))\n",
    "    np.array(y).reshape(1,-1)\n",
    "    y = normalize(np.array(y).reshape(1,-1), norm='l1')\n",
    "    ax = plt.bar(x1, y[0], color=cols)\n",
    "    plt.xticks([1,2,3,4,5])\n",
    "    plt.xlabel('Triage Priority')\n",
    "    plt.ylim([0,1])\n",
    "    if i==0:\n",
    "        plt.ylabel('Conditional\\nProbability')\n",
    "    plt.tight_layout()\n",
    "    plt.savefig(fname+'.pdf')\n",
    "    plt.show()"
   ]
  },
  {
   "cell_type": "code",
   "execution_count": 84,
   "metadata": {},
   "outputs": [],
   "source": [
    "y2 = [0,0,1,0,0]\n",
    "y1 = [1.1,1.5,1.2,1,0.8]\n",
    "\n",
    "x1 = [1,2,3,4,5]"
   ]
  },
  {
   "cell_type": "code",
   "execution_count": 85,
   "metadata": {},
   "outputs": [
    {
     "data": {
      "image/png": "[encoded data removed]",
      "text/plain": [
       "<Figure size 216x72 with 1 Axes>"
      ]
     },
     "metadata": {},
     "output_type": "display_data"
    },
    {
     "data": {
      "image/png": "[encoded data removed]",
      "text/plain": [
       "<Figure size 216x72 with 1 Axes>"
      ]
     },
     "metadata": {},
     "output_type": "display_data"
    }
   ],
   "source": [
    "for y, fname in zip([y1, y2], ['bad_prediction', 'worse_prediction']):\n",
    "    plt.subplots(figsize=(3,1))\n",
    "    np.array(y).reshape(1,-1)\n",
    "    y = normalize(np.array(y).reshape(1,-1), norm='l1')\n",
    "    ax = plt.bar(x1, y[0])\n",
    "    plt.xticks([1,2,3,4,5])\n",
    "    plt.tight_layout()\n",
    "    plt.show()"
   ]
  },
  {
   "cell_type": "code",
   "execution_count": 86,
   "metadata": {},
   "outputs": [],
   "source": [
    "y = [1.1,1.5,1.2,0.8,0.4]\n",
    "\n",
    "x1 = [1,2,3,4,5]\n",
    "cols1 = ['r', 'r', 'g', 'r', 'r' ]\n",
    "cols2 = ['r', 'r', 'r', 'r', 'g' ]"
   ]
  },
  {
   "cell_type": "code",
   "execution_count": 87,
   "metadata": {},
   "outputs": [
    {
     "data": {
      "image/png": "[encoded data removed]",
      "text/plain": [
       "<Figure size 216x72 with 1 Axes>"
      ]
     },
     "metadata": {},
     "output_type": "display_data"
    },
    {
     "data": {
      "image/png": "[encoded data removed]",
      "text/plain": [
       "<Figure size 216x72 with 1 Axes>"
      ]
     },
     "metadata": {},
     "output_type": "display_data"
    }
   ],
   "source": [
    "for cols, fname in zip([cols1, cols2], ['bad_prediction', 'worse_prediction']):\n",
    "    plt.subplots(figsize=(3,1))\n",
    "    np.array(y).reshape(1,-1)\n",
    "    y = normalize(np.array(y).reshape(1,-1), norm='l1')\n",
    "    ax = plt.bar(x1, y[0], color=cols)\n",
    "    plt.xticks([1,2,3,4,5])\n",
    "    plt.tight_layout()\n",
    "    plt.savefig(fname+'.png')\n",
    "    plt.show()"
   ]
  }
 ],
 "metadata": {
  "kernelspec": {
   "display_name": "Python 3",
   "language": "python",
   "name": "python3"
  },
  "language_info": {
   "codemirror_mode": {
    "name": "ipython",
    "version": 3
   },
   "file_extension": ".py",
   "mimetype": "text/x-python",
   "name": "python",
   "nbconvert_exporter": "python",
   "pygments_lexer": "ipython3",
   "version": "3.6.7"
  }
 },
 "nbformat": 4,
 "nbformat_minor": 2
}
